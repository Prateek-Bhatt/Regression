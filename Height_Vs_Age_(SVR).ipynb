{
  "nbformat": 4,
  "nbformat_minor": 0,
  "metadata": {
    "colab": {
      "name": "Height Vs Age (SVR).ipynb",
      "provenance": [],
      "authorship_tag": "ABX9TyNKJTqp+tPZA4EF4jswpgMS",
      "include_colab_link": true
    },
    "kernelspec": {
      "name": "python3",
      "display_name": "Python 3"
    },
    "language_info": {
      "name": "python"
    }
  },
  "cells": [
    {
      "cell_type": "markdown",
      "metadata": {
        "id": "view-in-github",
        "colab_type": "text"
      },
      "source": [
        "<a href=\"https://colab.research.google.com/github/Prateek-Bhatt/protekbot/blob/main/Height_Vs_Age_(SVR).ipynb\" target=\"_parent\"><img src=\"https://colab.research.google.com/assets/colab-badge.svg\" alt=\"Open In Colab\"/></a>"
      ]
    },
    {
      "cell_type": "markdown",
      "source": [
        "**Support Vector Regression**"
      ],
      "metadata": {
        "id": "ykF341oxwAAg"
      }
    },
    {
      "cell_type": "markdown",
      "source": [
        "Importing the libraries\n"
      ],
      "metadata": {
        "id": "yQpUalYUwJlm"
      }
    },
    {
      "cell_type": "code",
      "source": [
        "import pandas as pd\n",
        "import numpy as np\n",
        "import matplotlib.pyplot as plt"
      ],
      "metadata": {
        "id": "qwmRwH84wIgc"
      },
      "execution_count": 1,
      "outputs": []
    },
    {
      "cell_type": "markdown",
      "source": [
        "Importing the dataset"
      ],
      "metadata": {
        "id": "JHcrlkl6xaK1"
      }
    },
    {
      "cell_type": "code",
      "source": [
        "dataset = pd.read_csv('HeightVsWeight.csv')\n",
        "X = dataset.iloc[:, 0: -1].values\n",
        "y = dataset.iloc[:, -1].values"
      ],
      "metadata": {
        "id": "4u3jOvjxxZkV"
      },
      "execution_count": 26,
      "outputs": []
    },
    {
      "cell_type": "code",
      "source": [
        "print(y)"
      ],
      "metadata": {
        "colab": {
          "base_uri": "https://localhost:8080/"
        },
        "id": "Dlp6bbQDxqeJ",
        "outputId": "02eab6ce-6e2f-4f28-d100-efeae5cfec4f"
      },
      "execution_count": 27,
      "outputs": [
        {
          "output_type": "stream",
          "name": "stdout",
          "text": [
            "[138 138 138 139 139 139 140 140 140 141 141 141 142 142 142 143 143 143\n",
            " 144 144 145 145 146 146 147 147 148 148 149 149 150 150 151 152 153 155\n",
            " 156 157 158 159 160 161 162 163 164 164 165 166 167 168 169 170 171 172\n",
            " 173 175 178 180 183 185 188 190 193 195 199 203 204 205 206 207 208]\n"
          ]
        }
      ]
    },
    {
      "cell_type": "code",
      "source": [
        "print(X)"
      ],
      "metadata": {
        "colab": {
          "base_uri": "https://localhost:8080/"
        },
        "id": "Fh1nROjSx6a0",
        "outputId": "39e8b2ec-e6bd-43d1-a8ed-e08241ef8a03"
      },
      "execution_count": 28,
      "outputs": [
        {
          "output_type": "stream",
          "name": "stdout",
          "text": [
            "[[10]\n",
            " [11]\n",
            " [12]\n",
            " [13]\n",
            " [14]\n",
            " [15]\n",
            " [16]\n",
            " [17]\n",
            " [18]\n",
            " [19]\n",
            " [20]\n",
            " [21]\n",
            " [22]\n",
            " [23]\n",
            " [24]\n",
            " [25]\n",
            " [26]\n",
            " [27]\n",
            " [28]\n",
            " [29]\n",
            " [30]\n",
            " [31]\n",
            " [32]\n",
            " [33]\n",
            " [34]\n",
            " [35]\n",
            " [36]\n",
            " [37]\n",
            " [38]\n",
            " [39]\n",
            " [40]\n",
            " [41]\n",
            " [42]\n",
            " [43]\n",
            " [44]\n",
            " [45]\n",
            " [46]\n",
            " [47]\n",
            " [48]\n",
            " [49]\n",
            " [50]\n",
            " [51]\n",
            " [52]\n",
            " [53]\n",
            " [54]\n",
            " [55]\n",
            " [56]\n",
            " [57]\n",
            " [58]\n",
            " [59]\n",
            " [60]\n",
            " [61]\n",
            " [62]\n",
            " [63]\n",
            " [64]\n",
            " [65]\n",
            " [66]\n",
            " [67]\n",
            " [68]\n",
            " [69]\n",
            " [70]\n",
            " [71]\n",
            " [72]\n",
            " [73]\n",
            " [74]\n",
            " [75]\n",
            " [76]\n",
            " [77]\n",
            " [78]\n",
            " [79]\n",
            " [80]]\n"
          ]
        }
      ]
    },
    {
      "cell_type": "code",
      "source": [
        "y = y.reshape(len(y), 1)"
      ],
      "metadata": {
        "id": "FwoWt921x8WY"
      },
      "execution_count": 29,
      "outputs": []
    },
    {
      "cell_type": "code",
      "source": [
        "print(y)"
      ],
      "metadata": {
        "colab": {
          "base_uri": "https://localhost:8080/"
        },
        "id": "u-fL2FpqyBAn",
        "outputId": "c86de0f1-c947-48c2-b975-fad8a88a9726"
      },
      "execution_count": 30,
      "outputs": [
        {
          "output_type": "stream",
          "name": "stdout",
          "text": [
            "[[138]\n",
            " [138]\n",
            " [138]\n",
            " [139]\n",
            " [139]\n",
            " [139]\n",
            " [140]\n",
            " [140]\n",
            " [140]\n",
            " [141]\n",
            " [141]\n",
            " [141]\n",
            " [142]\n",
            " [142]\n",
            " [142]\n",
            " [143]\n",
            " [143]\n",
            " [143]\n",
            " [144]\n",
            " [144]\n",
            " [145]\n",
            " [145]\n",
            " [146]\n",
            " [146]\n",
            " [147]\n",
            " [147]\n",
            " [148]\n",
            " [148]\n",
            " [149]\n",
            " [149]\n",
            " [150]\n",
            " [150]\n",
            " [151]\n",
            " [152]\n",
            " [153]\n",
            " [155]\n",
            " [156]\n",
            " [157]\n",
            " [158]\n",
            " [159]\n",
            " [160]\n",
            " [161]\n",
            " [162]\n",
            " [163]\n",
            " [164]\n",
            " [164]\n",
            " [165]\n",
            " [166]\n",
            " [167]\n",
            " [168]\n",
            " [169]\n",
            " [170]\n",
            " [171]\n",
            " [172]\n",
            " [173]\n",
            " [175]\n",
            " [178]\n",
            " [180]\n",
            " [183]\n",
            " [185]\n",
            " [188]\n",
            " [190]\n",
            " [193]\n",
            " [195]\n",
            " [199]\n",
            " [203]\n",
            " [204]\n",
            " [205]\n",
            " [206]\n",
            " [207]\n",
            " [208]]\n"
          ]
        }
      ]
    },
    {
      "cell_type": "markdown",
      "source": [
        "Feature Scaling"
      ],
      "metadata": {
        "id": "Tgiyt7gryE97"
      }
    },
    {
      "cell_type": "code",
      "source": [
        "from sklearn.preprocessing import StandardScaler\n",
        "sc_X = StandardScaler()\n",
        "sc_y = StandardScaler()\n",
        "X = sc_X.fit_transform(X)\n",
        "y = sc_y.fit_transform(y)"
      ],
      "metadata": {
        "id": "Z1kagnE5yGOS"
      },
      "execution_count": 31,
      "outputs": []
    },
    {
      "cell_type": "code",
      "source": [
        "print(X)"
      ],
      "metadata": {
        "colab": {
          "base_uri": "https://localhost:8080/"
        },
        "id": "cZWvhYX7yTNz",
        "outputId": "6299816c-1194-4224-9bf3-76422cb685af"
      },
      "execution_count": 32,
      "outputs": [
        {
          "output_type": "stream",
          "name": "stdout",
          "text": [
            "[[-1.70782513]\n",
            " [-1.65903012]\n",
            " [-1.61023512]\n",
            " [-1.56144012]\n",
            " [-1.51264511]\n",
            " [-1.46385011]\n",
            " [-1.41505511]\n",
            " [-1.3662601 ]\n",
            " [-1.3174651 ]\n",
            " [-1.26867009]\n",
            " [-1.21987509]\n",
            " [-1.17108009]\n",
            " [-1.12228508]\n",
            " [-1.07349008]\n",
            " [-1.02469508]\n",
            " [-0.97590007]\n",
            " [-0.92710507]\n",
            " [-0.87831007]\n",
            " [-0.82951506]\n",
            " [-0.78072006]\n",
            " [-0.73192505]\n",
            " [-0.68313005]\n",
            " [-0.63433505]\n",
            " [-0.58554004]\n",
            " [-0.53674504]\n",
            " [-0.48795004]\n",
            " [-0.43915503]\n",
            " [-0.39036003]\n",
            " [-0.34156503]\n",
            " [-0.29277002]\n",
            " [-0.24397502]\n",
            " [-0.19518001]\n",
            " [-0.14638501]\n",
            " [-0.09759001]\n",
            " [-0.048795  ]\n",
            " [ 0.        ]\n",
            " [ 0.048795  ]\n",
            " [ 0.09759001]\n",
            " [ 0.14638501]\n",
            " [ 0.19518001]\n",
            " [ 0.24397502]\n",
            " [ 0.29277002]\n",
            " [ 0.34156503]\n",
            " [ 0.39036003]\n",
            " [ 0.43915503]\n",
            " [ 0.48795004]\n",
            " [ 0.53674504]\n",
            " [ 0.58554004]\n",
            " [ 0.63433505]\n",
            " [ 0.68313005]\n",
            " [ 0.73192505]\n",
            " [ 0.78072006]\n",
            " [ 0.82951506]\n",
            " [ 0.87831007]\n",
            " [ 0.92710507]\n",
            " [ 0.97590007]\n",
            " [ 1.02469508]\n",
            " [ 1.07349008]\n",
            " [ 1.12228508]\n",
            " [ 1.17108009]\n",
            " [ 1.21987509]\n",
            " [ 1.26867009]\n",
            " [ 1.3174651 ]\n",
            " [ 1.3662601 ]\n",
            " [ 1.41505511]\n",
            " [ 1.46385011]\n",
            " [ 1.51264511]\n",
            " [ 1.56144012]\n",
            " [ 1.61023512]\n",
            " [ 1.65903012]\n",
            " [ 1.70782513]]\n"
          ]
        }
      ]
    },
    {
      "cell_type": "code",
      "source": [
        "print(y)"
      ],
      "metadata": {
        "colab": {
          "base_uri": "https://localhost:8080/"
        },
        "id": "ioF3HKzVydhr",
        "outputId": "67f4a093-a388-4730-a814-fcc054a2164c"
      },
      "execution_count": 33,
      "outputs": [
        {
          "output_type": "stream",
          "name": "stdout",
          "text": [
            "[[-1.10522232]\n",
            " [-1.10522232]\n",
            " [-1.10522232]\n",
            " [-1.05690287]\n",
            " [-1.05690287]\n",
            " [-1.05690287]\n",
            " [-1.00858342]\n",
            " [-1.00858342]\n",
            " [-1.00858342]\n",
            " [-0.96026397]\n",
            " [-0.96026397]\n",
            " [-0.96026397]\n",
            " [-0.91194452]\n",
            " [-0.91194452]\n",
            " [-0.91194452]\n",
            " [-0.86362507]\n",
            " [-0.86362507]\n",
            " [-0.86362507]\n",
            " [-0.81530563]\n",
            " [-0.81530563]\n",
            " [-0.76698618]\n",
            " [-0.76698618]\n",
            " [-0.71866673]\n",
            " [-0.71866673]\n",
            " [-0.67034728]\n",
            " [-0.67034728]\n",
            " [-0.62202783]\n",
            " [-0.62202783]\n",
            " [-0.57370838]\n",
            " [-0.57370838]\n",
            " [-0.52538893]\n",
            " [-0.52538893]\n",
            " [-0.47706949]\n",
            " [-0.42875004]\n",
            " [-0.38043059]\n",
            " [-0.28379169]\n",
            " [-0.23547224]\n",
            " [-0.18715279]\n",
            " [-0.13883335]\n",
            " [-0.0905139 ]\n",
            " [-0.04219445]\n",
            " [ 0.006125  ]\n",
            " [ 0.05444445]\n",
            " [ 0.1027639 ]\n",
            " [ 0.15108335]\n",
            " [ 0.15108335]\n",
            " [ 0.1994028 ]\n",
            " [ 0.24772224]\n",
            " [ 0.29604169]\n",
            " [ 0.34436114]\n",
            " [ 0.39268059]\n",
            " [ 0.44100004]\n",
            " [ 0.48931949]\n",
            " [ 0.53763894]\n",
            " [ 0.58595838]\n",
            " [ 0.68259728]\n",
            " [ 0.82755563]\n",
            " [ 0.92419452]\n",
            " [ 1.06915287]\n",
            " [ 1.16579177]\n",
            " [ 1.31075011]\n",
            " [ 1.40738901]\n",
            " [ 1.55234736]\n",
            " [ 1.64898625]\n",
            " [ 1.84226405]\n",
            " [ 2.03554184]\n",
            " [ 2.08386129]\n",
            " [ 2.13218074]\n",
            " [ 2.18050019]\n",
            " [ 2.22881964]\n",
            " [ 2.27713909]]\n"
          ]
        }
      ]
    },
    {
      "cell_type": "markdown",
      "source": [
        "Training the SVR model on the whole dataset"
      ],
      "metadata": {
        "id": "_mDmXCM6yfRc"
      }
    },
    {
      "cell_type": "code",
      "source": [
        "from sklearn.svm import SVR\n",
        "regressor = SVR(kernel = 'rbf')\n",
        "regressor.fit(X, y)"
      ],
      "metadata": {
        "colab": {
          "base_uri": "https://localhost:8080/"
        },
        "id": "RGc9-1O2yhhB",
        "outputId": "f7624535-b3d1-45d9-cf7c-7a7bcae37943"
      },
      "execution_count": 34,
      "outputs": [
        {
          "output_type": "stream",
          "name": "stderr",
          "text": [
            "/usr/local/lib/python3.7/dist-packages/sklearn/utils/validation.py:993: DataConversionWarning: A column-vector y was passed when a 1d array was expected. Please change the shape of y to (n_samples, ), for example using ravel().\n",
            "  y = column_or_1d(y, warn=True)\n"
          ]
        },
        {
          "output_type": "execute_result",
          "data": {
            "text/plain": [
              "SVR()"
            ]
          },
          "metadata": {},
          "execution_count": 34
        }
      ]
    },
    {
      "cell_type": "markdown",
      "source": [
        "Predicting a new result"
      ],
      "metadata": {
        "id": "g1QR_V0HysNX"
      }
    },
    {
      "cell_type": "code",
      "source": [
        "sc_y.inverse_transform(regressor.predict(sc_X.transform([[18.5]])).reshape(-1, 1))"
      ],
      "metadata": {
        "colab": {
          "base_uri": "https://localhost:8080/"
        },
        "id": "btJTNbeKyuDr",
        "outputId": "33b8f933-005d-4310-ad40-b5f4e666ce38"
      },
      "execution_count": 36,
      "outputs": [
        {
          "output_type": "execute_result",
          "data": {
            "text/plain": [
              "array([[140.46451015]])"
            ]
          },
          "metadata": {},
          "execution_count": 36
        }
      ]
    },
    {
      "cell_type": "markdown",
      "source": [
        "Visualizing the SVR results"
      ],
      "metadata": {
        "id": "Ipdf4c0ozoHQ"
      }
    },
    {
      "cell_type": "code",
      "source": [
        "plt.scatter(sc_X.inverse_transform(X), sc_y.inverse_transform(y), color = 'red')\n",
        "plt.plot(sc_X.inverse_transform(X), sc_y.inverse_transform((regressor.predict(X)).reshape(-1, 1)), color = 'blue')\n",
        "plt.title('Height Vs Age')\n",
        "plt.xlabel('Age')\n",
        "plt.ylabel('Height')\n",
        "plt.show()"
      ],
      "metadata": {
        "colab": {
          "base_uri": "https://localhost:8080/",
          "height": 295
        },
        "id": "FKLHATdryeHl",
        "outputId": "2072eb8d-d1b6-4f12-b93c-0842e57879b6"
      },
      "execution_count": 40,
      "outputs": [
        {
          "output_type": "display_data",
          "data": {
            "image/png": "[encoded data removed]",
            "text/plain": [
              "<Figure size 432x288 with 1 Axes>"
            ]
          },
          "metadata": {
            "needs_background": "light"
          }
        }
      ]
    },
    {
      "cell_type": "markdown",
      "source": [
        "Visualizing the SVR results (for higher resolution and smoother curve)"
      ],
      "metadata": {
        "id": "CShYA5bJ0X6L"
      }
    },
    {
      "cell_type": "code",
      "source": [
        "X_grid = np.arange(min(sc_X.inverse_transform(X)), max(sc_X.inverse_transform(X)), 0.1)\n",
        "X_grid = X_grid.reshape(-1, 1)\n",
        "plt.scatter(sc_X.inverse_transform(X), sc_y.inverse_transform(y), color = 'red')\n",
        "plt.plot(X_grid, sc_y.inverse_transform((regressor.predict(sc_X.transform(X_grid))).reshape(-1, 1)), color = 'blue')\n",
        "plt.title('Height Vs Age')\n",
        "plt.xlabel('Age')\n",
        "plt.ylabel('Height')\n",
        "plt.show()"
      ],
      "metadata": {
        "colab": {
          "base_uri": "https://localhost:8080/",
          "height": 295
        },
        "id": "zN2tY8We0fvM",
        "outputId": "b64933a4-602d-4b1f-94de-f094ac637ef8"
      },
      "execution_count": 42,
      "outputs": [
        {
          "output_type": "display_data",
          "data": {
            "image/png": "[encoded data removed]",
            "text/plain": [
              "<Figure size 432x288 with 1 Axes>"
            ]
          },
          "metadata": {
            "needs_background": "light"
          }
        }
      ]
    }
  ]
}