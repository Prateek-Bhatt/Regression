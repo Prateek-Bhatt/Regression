{
  "nbformat": 4,
  "nbformat_minor": 0,
  "metadata": {
    "colab": {
      "name": "Predicting average points scored per game.ipynb",
      "provenance": [],
      "authorship_tag": "ABX9TyMj5ensFfoVbmLFIcjxdnYv",
      "include_colab_link": true
    },
    "kernelspec": {
      "name": "python3",
      "display_name": "Python 3"
    },
    "language_info": {
      "name": "python"
    }
  },
  "cells": [
    {
      "cell_type": "markdown",
      "metadata": {
        "id": "view-in-github",
        "colab_type": "text"
      },
      "source": [
        "<a href=\"https://colab.research.google.com/github/protekbot/protekbot/blob/main/Predicting_average_points_scored_per_game.ipynb\" target=\"_parent\"><img src=\"https://colab.research.google.com/assets/colab-badge.svg\" alt=\"Open In Colab\"/></a>"
      ]
    },
    {
      "cell_type": "markdown",
      "source": [
        "**Multiple Linear Regression**"
      ],
      "metadata": {
        "id": "LOLSa98s5u9G"
      }
    },
    {
      "cell_type": "markdown",
      "source": [
        "Importing the libraries"
      ],
      "metadata": {
        "id": "6OCfCIlC50He"
      }
    },
    {
      "cell_type": "code",
      "source": [
        "import pandas as pd\n",
        "import numpy as np\n",
        "import matplotlib.pyplot as plt"
      ],
      "metadata": {
        "id": "sueHi4yj5zPe"
      },
      "execution_count": 1,
      "outputs": []
    },
    {
      "cell_type": "markdown",
      "source": [
        "Importing the dataset"
      ],
      "metadata": {
        "id": "u7v4pYCD5-4E"
      }
    },
    {
      "cell_type": "code",
      "source": [
        "dataset = pd.read_csv('mlr09.csv')\n",
        "X = dataset.iloc[1:,:-1].values\n",
        "y = dataset.iloc[1:,-1].values"
      ],
      "metadata": {
        "id": "h3HDMhGO5-K-"
      },
      "execution_count": 2,
      "outputs": []
    },
    {
      "cell_type": "markdown",
      "source": [
        "Splitting into training and testing data"
      ],
      "metadata": {
        "id": "m6MBCmVo6bJt"
      }
    },
    {
      "cell_type": "code",
      "source": [
        "from sklearn.model_selection import train_test_split\n",
        "X_train, X_test, y_train, y_test = train_test_split(X, y, test_size = 0.2, random_state = 1)"
      ],
      "metadata": {
        "id": "-p87Dlqd6Z3G"
      },
      "execution_count": 4,
      "outputs": []
    },
    {
      "cell_type": "markdown",
      "source": [
        "Training the multiple linear regression model on training set"
      ],
      "metadata": {
        "id": "_Ku5a9Pt6vjP"
      }
    },
    {
      "cell_type": "code",
      "source": [
        "from sklearn.linear_model import LinearRegression\n",
        "regressor = LinearRegression()\n",
        "regressor.fit(X_train, y_train)"
      ],
      "metadata": {
        "colab": {
          "base_uri": "https://localhost:8080/"
        },
        "id": "a3lLmu0o6tYH",
        "outputId": "f622508d-1a11-4a8e-9cc8-d028485819fc"
      },
      "execution_count": 5,
      "outputs": [
        {
          "output_type": "execute_result",
          "data": {
            "text/plain": [
              "LinearRegression()"
            ]
          },
          "metadata": {},
          "execution_count": 5
        }
      ]
    },
    {
      "cell_type": "markdown",
      "source": [
        "Predicting test set results"
      ],
      "metadata": {
        "id": "g6Wqhm8e7DEb"
      }
    },
    {
      "cell_type": "code",
      "source": [
        "y_pred = regressor.predict(X_test)\n",
        "np.set_printoptions(precision = 2)\n",
        "print(np.concatenate((y_pred.reshape(len(y_pred), 1), y_test.reshape(len(y_test), 1)), 1))"
      ],
      "metadata": {
        "colab": {
          "base_uri": "https://localhost:8080/"
        },
        "id": "MBgu7jck6-V6",
        "outputId": "a62648a7-0385-41cc-8567-aec6d349c1d5"
      },
      "execution_count": 10,
      "outputs": [
        {
          "output_type": "stream",
          "name": "stdout",
          "text": [
            "[[11.11  7.7 ]\n",
            " [11.1   8.6 ]\n",
            " [11.88  5.8 ]\n",
            " [10.92  7.2 ]\n",
            " [15.01  9.6 ]\n",
            " [10.75 11.  ]\n",
            " [16.39  8.9 ]\n",
            " [ 8.67  9.4 ]\n",
            " [19.58 12.2 ]\n",
            " [ 9.12 10.1 ]\n",
            " [14.37  9.1 ]]\n"
          ]
        }
      ]
    }
  ]
}